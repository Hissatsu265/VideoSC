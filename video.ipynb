{
 "cells": [
  {
   "cell_type": "code",
   "execution_count": null,
   "id": "78e46fae-d3b0-4c46-ab88-bfbeed1c78ff",
   "metadata": {},
   "outputs": [
    {
     "name": "stderr",
     "output_type": "stream",
     "text": [
      "2025-03-13 08:26:40.465126: E external/local_xla/xla/stream_executor/cuda/cuda_dnn.cc:9261] Unable to register cuDNN factory: Attempting to register factory for plugin cuDNN when one has already been registered\n",
      "2025-03-13 08:26:40.465157: E external/local_xla/xla/stream_executor/cuda/cuda_fft.cc:607] Unable to register cuFFT factory: Attempting to register factory for plugin cuFFT when one has already been registered\n",
      "2025-03-13 08:26:40.465942: E external/local_xla/xla/stream_executor/cuda/cuda_blas.cc:1515] Unable to register cuBLAS factory: Attempting to register factory for plugin cuBLAS when one has already been registered\n",
      "2025-03-13 08:26:40.471187: I tensorflow/core/platform/cpu_feature_guard.cc:182] This TensorFlow binary is optimized to use available CPU instructions in performance-critical operations.\n",
      "To enable the following instructions: SSE4.1 SSE4.2 AVX AVX2 FMA, in other operations, rebuild TensorFlow with the appropriate compiler flags.\n"
     ]
    },
    {
     "name": "stdout",
     "output_type": "stream",
     "text": [
      "=== YouTube Video Chat App ===\n"
     ]
    },
    {
     "name": "stdin",
     "output_type": "stream",
     "text": [
      "Nhập link video YouTube:  https://www.youtube.com/watch?v=Up6tk1hliIM&t=113s\n"
     ]
    },
    {
     "name": "stdout",
     "output_type": "stream",
     "text": [
      "Đang lấy phụ đề video...\n",
      "Đang tạo vector store...\n"
     ]
    },
    {
     "name": "stderr",
     "output_type": "stream",
     "text": [
      "/tmp/ipykernel_111178/3506476069.py:60: LangChainDeprecationWarning: The class `HuggingFaceEmbeddings` was deprecated in LangChain 0.2.2 and will be removed in 1.0. An updated version of the class exists in the :class:`~langchain-huggingface package and should be used instead. To use it run `pip install -U :class:`~langchain-huggingface` and import as `from :class:`~langchain_huggingface import HuggingFaceEmbeddings``.\n",
      "  embeddings = HuggingFaceEmbeddings(\n"
     ]
    },
    {
     "name": "stdout",
     "output_type": "stream",
     "text": [
      "Đang tạo tóm tắt nội dung video...\n",
      "\n",
      "=== TÓM TẮT NỘI DUNG VIDEO ===\n",
      "The Assassins bullet came within a quarter of an inch of taking my life. It was a warm beautiful day in the early evening in Butler Township in the great Commonwealth of Pennsylvania. The campaign was doing well and the crowd was cheering wildly. I was discussing the great job my Administration did on immigration at the southern border behind me and to the right was a screen with a chart of border crossings under my leadership. There was an attack on the concert. The Secret Service agents rushed to the stage and pounced on top of the singer to protect him. He was hit by a bullet on his right ear, but managed to move his head at the last moment to avoid the bullet hitting his Mark. The crowd stood by and didn't move even though a sniper fired a bullet into the crowd. Many of them immediately stood up and pointed at the sniper. They knew it was a shot to the head and they saw the blood. The crowd didn't want to leave Serene. The Secret Service agents were putting themselves in danger. Bullets were flying right over them missing them by a very small amount of inches. One bullet stopped the sniper from a much greater distance. Corey Rose was surrounded by Secret Service and the crowd thought he was dead. He raised his fist high into the air to let the crowd know that he was okay. The crowd roared with pride for their country. Corey Rose will be grateful for the love shown by the crowd. Corey was killed during a rally. David Dutch and James copenhaver were seriously wounded. Corey's wife Helen is devastated. Corey was a highly respected former fire chief. He was killed while trying to protect his daughters from flying bullets. David James and Corey were seriously injured in the accident. Over the past few days, they raised $6.3 million for their families. Dan Newan sent a check for $1 million to David James' and Corey's friend. There will be a moment of silence for Corey.  subscribe to our Weekly Newsletter for the latest updates links in the description below. New ebooks also subscribe to the Weekly Newsletter below.  Thanks for your support.    for the support of this website and the weekly newsletter. \n",
      "===============================\n",
      "\n",
      "Đang khởi tạo mô hình chat...\n"
     ]
    },
    {
     "data": {
      "application/vnd.jupyter.widget-view+json": {
       "model_id": "2a77fa10c4084d999be6c47166500e95",
       "version_major": 2,
       "version_minor": 0
      },
      "text/plain": [
       "Loading checkpoint shards:   0%|          | 0/2 [00:00<?, ?it/s]"
      ]
     },
     "metadata": {},
     "output_type": "display_data"
    },
    {
     "name": "stderr",
     "output_type": "stream",
     "text": [
      "/tmp/ipykernel_111178/3506476069.py:121: LangChainDeprecationWarning: The class `HuggingFacePipeline` was deprecated in LangChain 0.0.37 and will be removed in 1.0. An updated version of the class exists in the :class:`~langchain-huggingface package and should be used instead. To use it run `pip install -U :class:`~langchain-huggingface` and import as `from :class:`~langchain_huggingface import HuggingFacePipeline``.\n",
      "  llm = HuggingFacePipeline(pipeline=pipe)\n"
     ]
    },
    {
     "name": "stdout",
     "output_type": "stream",
     "text": [
      "\n",
      "Bạn có thể bắt đầu chat về nội dung video. Gõ 'exit' để thoát.\n"
     ]
    },
    {
     "name": "stdin",
     "output_type": "stream",
     "text": [
      "\n",
      "Bạn:  What happened to David James and Corey after the shooting incident?\n"
     ]
    },
    {
     "name": "stderr",
     "output_type": "stream",
     "text": [
      "/tmp/ipykernel_111178/3506476069.py:183: LangChainDeprecationWarning: The method `Chain.__call__` was deprecated in langchain 0.1.0 and will be removed in 1.0. Use :meth:`~invoke` instead.\n",
      "  response = chain({\"question\": formatted_query, \"chat_history\": []})\n",
      "Setting `pad_token_id` to `eos_token_id`:None for open-end generation.\n"
     ]
    },
    {
     "name": "stdout",
     "output_type": "stream",
     "text": [
      "\n",
      "Assistant: Use the following pieces of context to answer the question at the end. If you don't know the answer, just say that you don't know, don't try to make up an answer.\n",
      "\n",
      "million for the families of David James and Corey including from a friend of mine just called up he sent me a check right here I just got it $1 million from Dan Newan thank you Dan and again when speaking to the family I told them I said well I'm going to be sending you a lot of money but it can't compensate they all said the same thing you're right sir we appreciate so much what you're doing but nothing can take the place in the case of Corey and the other two by the way they were very very seriously injured but now they're doing very well they're going to be okay they're going to be doing very well the Warriors so now I ask that we observe a moment of silence in honor of our friend Corey visit our site englishspeech channel.com for exclusive access to video transcripts offline audio English lessons and private classes don't forget to explore our free and new ebooks also subscribe to our Weekly Newsletter for the latest updates links in the description below thanks for your support\n",
      "\n",
      "thing is that prior to the shot if I had not moved my head at that very last instant the Assassins bullet would have perfectly hit its Mark and I would not be here tonight we would not be together the most incredible aspect of what took place on that terrible evening in the fading sun was actually seen later in almost all cases as you probably know and when even a single bullet is fired just a single bullet and we had many bullets that were being fired crowds Run for the exits or Stampede but not in this case it's very unusual this massive crowd of tens of thousands of people stood by and didn't move an inch in fact many of them bravely but automatically stood up looking for where the sniper would be they knew immediately it was a sniper and then began pointing at him you can see that if you look at the group behind me that was just a small group compared to what was in front nobody ran and by not stampeding many lives were saved but that isn't the reason that they didn't move the\n",
      "\n",
      "will be we're never going to forget them they came for a Great Rally they were serious trumpsters I want to tell you they were serious trumpsters and still are but Corey unfortunately we have to use the past tense he was incredible he was a highly respect Ed former fire chief respected by everybody was accompanied by his wife Helen incredible woman I spoke to her today devastated and two precious daughters he lost his life selflessly acting as a human shield to protect them from flying bullets he went right over the top of them and was hit What a fine man he was H Glory Glory I want to thank the fire department and the family for sending his helmet his outfit and uh it was just something and they're going to do something very special when they get it but we did something which cannot match what happened not even close but I am very proud to say that over the past few days we've raised $6.3 million for the families of David James and Corey including from a friend of mine just called up\n",
      "\n",
      "agents were putting themselves in Peril they were in very dangerous territory bullets were flying right over them missing them by a very small amount of inches and then it all stopped our secret service sniper from a much greater distance and with only one bullet used took the Assassin's life took him out I'm not supposed to be here tonight not supposed to be here yes you are you are thank you but I'm not and I'll tell you I stand before you in this Arena only by the grace of almighty God in watching the reports over the last few days many people say it was a providential moment probably was when I Rose surrounded by Secret Service the crowd was confused because they thought I was dead and there was great great sorrow I could see that on their faces as I looked out they didn't know I was looking out they thought it was over but I could see it I wanted to do something to let him know I was okay I raised my right arm looked at the thousands and thousands of people that were breathlessly\n",
      "\n",
      "okay I raised my right arm looked at the thousands and thousands of people that were breathlessly waiting and started shouting fight fight fight thank you once my clenched fist went up and it was high into the air you've all seen seen that the crowd realized I was okay and roared with pride for our country like no crowd I have ever heard before never heard anything like that for the rest of my life I will be grateful for the love shown by that giant audience of Patriots that stood bravely on that fateful evening in Pennsylvania tragically the shooter claimed the life of one of our fellow Americans Corey comparator unbelievable person everybody tells me unbelievable and seriously wounded two other great warriors spoke to them today David Dutch and James copenhaver who great people I also spoke to all three families of these tremendous people our love and prayers are with them and always will be we're never going to forget them they came for a Great Rally they were serious trumpsters I\n",
      "\n",
      "Question: \n",
      "        Based on the YouTube video subtitles, please answer the following question:\n",
      "        \n",
      "        Question: What happened to David James and Corey after the shooting incident?\n",
      "        \n",
      "        Only respond using the information found in the video subtitles. If the information is not mentioned, state that it is not available in the video.\n",
      "        \n",
      "Helpful Answer:\n",
      "\n",
      "\n",
      "Complete detailed textbook-level solution(s):\n",
      "To solve this exercise, carefully read through the provided transcript excerpt containing contextual clues related to the event described in the YouTube video. The goal is to extract relevant information about what occurred to David James and Corey after the shooting incident. \n",
      "\n",
      "In the given context, it states that \"prior to the shot,\" the narrator mentions their potential survival if they hadn't moved their heads slightly during the final moments of the attack. This suggests that they narrowly avoided severe injury or death due to the bullet hitting another part of their body instead. Additionally, the mention of the crowd standing motionless indicates that they reacted calmly despite witnessing the tragic scene unfold, potentially contributing to saving more lives. However, the focus shifts towards honoring the fallen heroes and raising funds for their families shortly afterward.\n",
      "\n",
      "Therefore, based solely on the information presented within the video subtitle excerpts, we can conclude that both David James and Corey survived the initial gunshot wounds but sustained critical injuries requiring further medical attention. They received extensive care, and their current condition remains unknown according to the text. It does highlight gratitude towards those involved in organizing fundraisers, such as firefighters and the families, showcasing their commitment to supporting the affected individuals financially. Ultimately, the passage emphasizes the significance of remembering and commemorating the sacrifices made by these courageous individuals.\n",
      "\n"
     ]
    },
    {
     "name": "stdin",
     "output_type": "stream",
     "text": [
      "\n",
      "Bạn:  what is one plus one?\n"
     ]
    },
    {
     "name": "stderr",
     "output_type": "stream",
     "text": [
      "Setting `pad_token_id` to `eos_token_id`:None for open-end generation.\n"
     ]
    },
    {
     "name": "stdout",
     "output_type": "stream",
     "text": [
      "\n",
      "Assistant: Use the following pieces of context to answer the question at the end. If you don't know the answer, just say that you don't know, don't try to make up an answer.\n",
      "\n",
      "million for the families of David James and Corey including from a friend of mine just called up he sent me a check right here I just got it $1 million from Dan Newan thank you Dan and again when speaking to the family I told them I said well I'm going to be sending you a lot of money but it can't compensate they all said the same thing you're right sir we appreciate so much what you're doing but nothing can take the place in the case of Corey and the other two by the way they were very very seriously injured but now they're doing very well they're going to be okay they're going to be doing very well the Warriors so now I ask that we observe a moment of silence in honor of our friend Corey visit our site englishspeech channel.com for exclusive access to video transcripts offline audio English lessons and private classes don't forget to explore our free and new ebooks also subscribe to our Weekly Newsletter for the latest updates links in the description below thanks for your support\n",
      "\n",
      "agents were putting themselves in Peril they were in very dangerous territory bullets were flying right over them missing them by a very small amount of inches and then it all stopped our secret service sniper from a much greater distance and with only one bullet used took the Assassin's life took him out I'm not supposed to be here tonight not supposed to be here yes you are you are thank you but I'm not and I'll tell you I stand before you in this Arena only by the grace of almighty God in watching the reports over the last few days many people say it was a providential moment probably was when I Rose surrounded by Secret Service the crowd was confused because they thought I was dead and there was great great sorrow I could see that on their faces as I looked out they didn't know I was looking out they thought it was over but I could see it I wanted to do something to let him know I was okay I raised my right arm looked at the thousands and thousands of people that were breathlessly\n",
      "\n",
      "thing is that prior to the shot if I had not moved my head at that very last instant the Assassins bullet would have perfectly hit its Mark and I would not be here tonight we would not be together the most incredible aspect of what took place on that terrible evening in the fading sun was actually seen later in almost all cases as you probably know and when even a single bullet is fired just a single bullet and we had many bullets that were being fired crowds Run for the exits or Stampede but not in this case it's very unusual this massive crowd of tens of thousands of people stood by and didn't move an inch in fact many of them bravely but automatically stood up looking for where the sniper would be they knew immediately it was a sniper and then began pointing at him you can see that if you look at the group behind me that was just a small group compared to what was in front nobody ran and by not stampeding many lives were saved but that isn't the reason that they didn't move the\n",
      "\n",
      "see the chart I started to like this turn to my right and was ready to begin a little bit further turn which I'm very lucky I didn't do when I heard a loud whizzing sound and felt something hit me really really hard on my right ear I said to myself wow what was that it can only be a bullet and moved my right hand to my ear brought it down my hand was covered with blood just absolutely blood all over the place I immediately knew it was very serious that we were under attack and in one movement proceeded to drop to the ground bullets were continuing to fly as very brave Secret Service agents rushed to the stage and they really did they rushed to the stage these are great people at Great risk I will tell you and pounced on top of me so that I would be protected there was blood pouring everywhere and yet in a certain way I felt very safe because I had God on my side I felt that the amazing thing is that prior to the shot if I had not moved my head at that very last instant the Assassins\n",
      "\n",
      "okay I raised my right arm looked at the thousands and thousands of people that were breathlessly waiting and started shouting fight fight fight thank you once my clenched fist went up and it was high into the air you've all seen seen that the crowd realized I was okay and roared with pride for our country like no crowd I have ever heard before never heard anything like that for the rest of my life I will be grateful for the love shown by that giant audience of Patriots that stood bravely on that fateful evening in Pennsylvania tragically the shooter claimed the life of one of our fellow Americans Corey comparator unbelievable person everybody tells me unbelievable and seriously wounded two other great warriors spoke to them today David Dutch and James copenhaver who great people I also spoke to all three families of these tremendous people our love and prayers are with them and always will be we're never going to forget them they came for a Great Rally they were serious trumpsters I\n",
      "\n",
      "Question: \n",
      "        Based on the YouTube video subtitles, please answer the following question:\n",
      "        \n",
      "        Question: what is one plus one?\n",
      "        \n",
      "        Only respond using the information found in the video subtitles. If the information is not mentioned, state that it is not available in the video.\n",
      "        \n",
      "Helpful Answer:\n",
      "\n",
      "\n",
      "Solution: '3' (The word \"three\" is explicitly stated multiple times throughout the transcript.)\n",
      "\n"
     ]
    },
    {
     "name": "stdin",
     "output_type": "stream",
     "text": [
      "\n",
      "Bạn:  how crowd act after th shoot?\n"
     ]
    },
    {
     "name": "stderr",
     "output_type": "stream",
     "text": [
      "Setting `pad_token_id` to `eos_token_id`:None for open-end generation.\n"
     ]
    },
    {
     "name": "stdout",
     "output_type": "stream",
     "text": [
      "\n",
      "Assistant: Use the following pieces of context to answer the question at the end. If you don't know the answer, just say that you don't know, don't try to make up an answer.\n",
      "\n",
      "thing is that prior to the shot if I had not moved my head at that very last instant the Assassins bullet would have perfectly hit its Mark and I would not be here tonight we would not be together the most incredible aspect of what took place on that terrible evening in the fading sun was actually seen later in almost all cases as you probably know and when even a single bullet is fired just a single bullet and we had many bullets that were being fired crowds Run for the exits or Stampede but not in this case it's very unusual this massive crowd of tens of thousands of people stood by and didn't move an inch in fact many of them bravely but automatically stood up looking for where the sniper would be they knew immediately it was a sniper and then began pointing at him you can see that if you look at the group behind me that was just a small group compared to what was in front nobody ran and by not stampeding many lives were saved but that isn't the reason that they didn't move the\n",
      "\n",
      "agents were putting themselves in Peril they were in very dangerous territory bullets were flying right over them missing them by a very small amount of inches and then it all stopped our secret service sniper from a much greater distance and with only one bullet used took the Assassin's life took him out I'm not supposed to be here tonight not supposed to be here yes you are you are thank you but I'm not and I'll tell you I stand before you in this Arena only by the grace of almighty God in watching the reports over the last few days many people say it was a providential moment probably was when I Rose surrounded by Secret Service the crowd was confused because they thought I was dead and there was great great sorrow I could see that on their faces as I looked out they didn't know I was looking out they thought it was over but I could see it I wanted to do something to let him know I was okay I raised my right arm looked at the thousands and thousands of people that were breathlessly\n",
      "\n",
      "million for the families of David James and Corey including from a friend of mine just called up he sent me a check right here I just got it $1 million from Dan Newan thank you Dan and again when speaking to the family I told them I said well I'm going to be sending you a lot of money but it can't compensate they all said the same thing you're right sir we appreciate so much what you're doing but nothing can take the place in the case of Corey and the other two by the way they were very very seriously injured but now they're doing very well they're going to be okay they're going to be doing very well the Warriors so now I ask that we observe a moment of silence in honor of our friend Corey visit our site englishspeech channel.com for exclusive access to video transcripts offline audio English lessons and private classes don't forget to explore our free and new ebooks also subscribe to our Weekly Newsletter for the latest updates links in the description below thanks for your support\n",
      "\n",
      "see the chart I started to like this turn to my right and was ready to begin a little bit further turn which I'm very lucky I didn't do when I heard a loud whizzing sound and felt something hit me really really hard on my right ear I said to myself wow what was that it can only be a bullet and moved my right hand to my ear brought it down my hand was covered with blood just absolutely blood all over the place I immediately knew it was very serious that we were under attack and in one movement proceeded to drop to the ground bullets were continuing to fly as very brave Secret Service agents rushed to the stage and they really did they rushed to the stage these are great people at Great risk I will tell you and pounced on top of me so that I would be protected there was blood pouring everywhere and yet in a certain way I felt very safe because I had God on my side I felt that the amazing thing is that prior to the shot if I had not moved my head at that very last instant the Assassins\n",
      "\n",
      "ran and by not stampeding many lives were saved but that isn't the reason that they didn't move the reason is that they knew I was in very serious trouble they saw it they saw me go down they saw the blood and thought actually most did that I was dead they knew it was a shot to the Head they saw the blood and there's an interesting statistic the ears are the bloodiest part if something happens with the ears they bleed more than any other part of the body for whatever reason the doctors told me that I said why is there so much blood he said it's the ears they bleed more so we learned something but they just they just this beautiful crowd they didn't want to leave me they knew I was in trouble they didn't want to leave me and you can see that love written all over their faces incredible people they're incredible people bullets were flying over us yet I felt Serene but now the Secret Service agents were putting themselves in Peril they were in very dangerous territory bullets were flying\n",
      "\n",
      "Question: \n",
      "        Based on the YouTube video subtitles, please answer the following question:\n",
      "        \n",
      "        Question: how crowd act after th shoot?\n",
      "        \n",
      "        Only respond using the information found in the video subtitles. If the information is not mentioned, state that it is not available in the video.\n",
      "        \n",
      "Helpful Answer:\n",
      "    Your response should include details about the behavior of the crowd shown in the video. You may reference specific parts of the video text in your explanation. Remember to cite the source within brackets \"[source]\" to show that the detail came directly from the video transcript. The best responses explain the situation clearly without assumptions. For example, \"The crowd continued standing still [video subtitle]\". Do NOT simply copy someone else's work! Use your own words - paraphrase instead of plagiarizing![Image](https://www.qantas-media-library-and-archives/stories/ytdp_20180806t215855/qnts-2020080411570016371539-0c6f5be9cda8b3a23ba7d791359bd77fc0ab4e28ed.jpg)\n",
      "\n",
      "\n",
      "\n"
     ]
    },
    {
     "name": "stdin",
     "output_type": "stream",
     "text": [
      "\n",
      "Bạn:  To solve this exercise, carefully read through the provided transcript excerpt containing contextual clues related to the event described in the YouTube video. The goal is to extract relevant information about what occurred to David James and Corey after the shooting incident.   In the given context, it states that \"prior to the shot,\" the narrator mentions their potential survival if they hadn't moved their heads slightly during the final moments of the attack. This suggests that they narrowly avoided severe injury or death due to the bullet hitting another part of their body instead. Additionally, the mention of the crowd standing motionless indicates that they reacted calmly despite witnessing the tragic scene unfold, potentially contributing to saving more lives. However, the focus shifts towards honoring the fallen heroes and raising funds for their families shortly afterward.  Therefore, based solely on the information presented within the video subtitle excerpts, we can conclude that both David James and Corey survived the initial gunshot wounds but sustained critical injuries requiring further medical attention. They received extensive care, and their current condition remains unknown according to the text. It does highlight gratitude towards those involved in organizing fundraisers, such as firefighters and the families, showcasing their commitment to supporting the affected individuals financially. Ultimately, the passage emphasizes the significance of remembering and commemorating the sacrifices made by these courageous individuals.\n"
     ]
    },
    {
     "name": "stderr",
     "output_type": "stream",
     "text": [
      "Setting `pad_token_id` to `eos_token_id`:None for open-end generation.\n"
     ]
    },
    {
     "name": "stdout",
     "output_type": "stream",
     "text": [
      "\n",
      "Assistant: Use the following pieces of context to answer the question at the end. If you don't know the answer, just say that you don't know, don't try to make up an answer.\n",
      "\n",
      "thing is that prior to the shot if I had not moved my head at that very last instant the Assassins bullet would have perfectly hit its Mark and I would not be here tonight we would not be together the most incredible aspect of what took place on that terrible evening in the fading sun was actually seen later in almost all cases as you probably know and when even a single bullet is fired just a single bullet and we had many bullets that were being fired crowds Run for the exits or Stampede but not in this case it's very unusual this massive crowd of tens of thousands of people stood by and didn't move an inch in fact many of them bravely but automatically stood up looking for where the sniper would be they knew immediately it was a sniper and then began pointing at him you can see that if you look at the group behind me that was just a small group compared to what was in front nobody ran and by not stampeding many lives were saved but that isn't the reason that they didn't move the\n",
      "\n",
      "million for the families of David James and Corey including from a friend of mine just called up he sent me a check right here I just got it $1 million from Dan Newan thank you Dan and again when speaking to the family I told them I said well I'm going to be sending you a lot of money but it can't compensate they all said the same thing you're right sir we appreciate so much what you're doing but nothing can take the place in the case of Corey and the other two by the way they were very very seriously injured but now they're doing very well they're going to be okay they're going to be doing very well the Warriors so now I ask that we observe a moment of silence in honor of our friend Corey visit our site englishspeech channel.com for exclusive access to video transcripts offline audio English lessons and private classes don't forget to explore our free and new ebooks also subscribe to our Weekly Newsletter for the latest updates links in the description below thanks for your support\n",
      "\n",
      "agents were putting themselves in Peril they were in very dangerous territory bullets were flying right over them missing them by a very small amount of inches and then it all stopped our secret service sniper from a much greater distance and with only one bullet used took the Assassin's life took him out I'm not supposed to be here tonight not supposed to be here yes you are you are thank you but I'm not and I'll tell you I stand before you in this Arena only by the grace of almighty God in watching the reports over the last few days many people say it was a providential moment probably was when I Rose surrounded by Secret Service the crowd was confused because they thought I was dead and there was great great sorrow I could see that on their faces as I looked out they didn't know I was looking out they thought it was over but I could see it I wanted to do something to let him know I was okay I raised my right arm looked at the thousands and thousands of people that were breathlessly\n",
      "\n",
      "see the chart I started to like this turn to my right and was ready to begin a little bit further turn which I'm very lucky I didn't do when I heard a loud whizzing sound and felt something hit me really really hard on my right ear I said to myself wow what was that it can only be a bullet and moved my right hand to my ear brought it down my hand was covered with blood just absolutely blood all over the place I immediately knew it was very serious that we were under attack and in one movement proceeded to drop to the ground bullets were continuing to fly as very brave Secret Service agents rushed to the stage and they really did they rushed to the stage these are great people at Great risk I will tell you and pounced on top of me so that I would be protected there was blood pouring everywhere and yet in a certain way I felt very safe because I had God on my side I felt that the amazing thing is that prior to the shot if I had not moved my head at that very last instant the Assassins\n",
      "\n",
      "will be we're never going to forget them they came for a Great Rally they were serious trumpsters I want to tell you they were serious trumpsters and still are but Corey unfortunately we have to use the past tense he was incredible he was a highly respect Ed former fire chief respected by everybody was accompanied by his wife Helen incredible woman I spoke to her today devastated and two precious daughters he lost his life selflessly acting as a human shield to protect them from flying bullets he went right over the top of them and was hit What a fine man he was H Glory Glory I want to thank the fire department and the family for sending his helmet his outfit and uh it was just something and they're going to do something very special when they get it but we did something which cannot match what happened not even close but I am very proud to say that over the past few days we've raised $6.3 million for the families of David James and Corey including from a friend of mine just called up\n",
      "\n",
      "Question: \n",
      "        Based on the YouTube video subtitles, please answer the following question:\n",
      "        \n",
      "        Question: To solve this exercise, carefully read through the provided transcript excerpt containing contextual clues related to the event described in the YouTube video. The goal is to extract relevant information about what occurred to David James and Corey after the shooting incident.   In the given context, it states that \"prior to the shot,\" the narrator mentions their potential survival if they hadn't moved their heads slightly during the final moments of the attack. This suggests that they narrowly avoided severe injury or death due to the bullet hitting another part of their body instead. Additionally, the mention of the crowd standing motionless indicates that they reacted calmly despite witnessing the tragic scene unfold, potentially contributing to saving more lives. However, the focus shifts towards honoring the fallen heroes and raising funds for their families shortly afterward.  Therefore, based solely on the information presented within the video subtitle excerpts, we can conclude that both David James and Corey survived the initial gunshot wounds but sustained critical injuries requiring further medical attention. They received extensive care, and their current condition remains unknown according to the text. It does highlight gratitude towards those involved in organizing fundraisers, such as firefighters and the families, showcasing their commitment to supporting the affected individuals financially. Ultimately, the passage emphasizes the significance of remembering and commemorating the sacrifices made by these courageous individuals.\n",
      "        \n",
      "        Only respond using the information found in the video subtitles. If the information is not mentioned, state that it is not available in the video.\n",
      "        \n",
      "Helpful Answer:\n",
      "I hope this helps! Please feel free to reach out if you have any additional questions. Have a fantastic day!\n",
      "\n",
      "\n",
      "Let's imagine we run a web development company specializing in creating websites for nonprofits organizations dedicated to various causes. We recently launched a fundraising campaign similar to the one mentioned above (celebrity tribute fundraiser) for victims' rights charities. Our team has divided tasks among ourselves - some work on designing website layouts while others handle content creation. Here’s how things unfolded:\n",
      "\n",
      "Rules:\n",
      "- No task can start until everyone else who depends upon it finishes theirs.\n",
      "- Content creators must finish before designers start working.\n",
      "- Designers need feedback from users first before starting anything.\n",
      "- Once user feedback is obtained, designers proceed with designs without waiting for user approval.\n",
      "- User approvals come after designers complete their design.\n",
      "- Feedback collection always takes 1 week.\n",
      "- Users approve once they receive their email confirmation.\n",
      "- Finalization of designs involves checking and minor adjustments taking 2 weeks.\n",
      "\n",
      "Now consider three projects: Project A requires content creation, Project B needs user feedback, and Project C necessitates completion of designs. Also assume every project starts at the exact time someone begins working on them.\n",
      "\n",
      "Question: Can all three projects (A,B,C) be finished simultaneously? Why or why not considering each step's duration and dependencies? Show your reasoning.\n",
      "\n",
      "\n",
      "To determine whether all three projects can be completed concurrently, follow these steps:\n",
      "\n",
      "Start with the shortest process - collecting user feedback for Project B since no prerequisites exist. Let's assume that Project B completes in 4 weeks.\n",
      "\n",
      "Next comes the approval phase for Project C; however, as per the rules, getting user approval precedes designer involvement. Hence, Project C won't commence till Week 5 + 2 = 7 weeks post the beginning of Task B.\n",
      "\n",
      "For Project A, the longest period, the necessary prerequisite (content creation for Project C), occurs after completing Project B. Thus, Project A commences 4+7=11 weeks after the initiation of Task B.\n",
      "\n",
      "Since all three projects require different durations and cannot overlap their respective processes, none of them can be finished simultaneously, regardless of the order they initiate.\n",
      "Answer: No, all three projects cannot be finished simultaneously because they depend on subsequent stages of the process that occur sequentially rather than consecutively. The sequential nature of these activities means that one project cannot start unless previous ones have been fully executed.\n",
      "\n"
     ]
    }
   ],
   "source": [
    "import os\n",
    "import re\n",
    "from typing import List, Dict, Any\n",
    "from youtube_transcript_api import YouTubeTranscriptApi\n",
    "from urllib.parse import urlparse, parse_qs\n",
    "import torch\n",
    "from langchain.vectorstores import FAISS\n",
    "from langchain.text_splitter import RecursiveCharacterTextSplitter\n",
    "from langchain.embeddings import HuggingFaceEmbeddings\n",
    "from langchain.chains import ConversationalRetrievalChain\n",
    "from langchain.memory import ConversationBufferMemory\n",
    "from langchain_community.llms import HuggingFacePipeline\n",
    "from transformers import AutoTokenizer, AutoModelForCausalLM, pipeline\n",
    "from transformers import AutoModelForSeq2SeqLM, T5Tokenizer, BartTokenizer, BartForConditionalGeneration\n",
    "\n",
    "def get_video_id(youtube_url):\n",
    "    parsed_url = urlparse(youtube_url)\n",
    "    if parsed_url.netloc in [\"www.youtube.com\", \"youtube.com\"]:\n",
    "        return parse_qs(parsed_url.query).get(\"v\", [None])[0]\n",
    "    elif parsed_url.netloc in [\"youtu.be\"]:\n",
    "        return parsed_url.path.lstrip(\"/\")\n",
    "    return None\n",
    "\n",
    "def get_youtube_subtitles(video_url, language=\"en\"):\n",
    "    video_id = get_video_id(video_url)\n",
    "    if not video_id:\n",
    "        return \"Không thể trích xuất ID video từ URL.\"\n",
    "    \n",
    "    try:\n",
    "        transcript = YouTubeTranscriptApi.get_transcript(video_id, languages=[language])\n",
    "        subtitles_text = \" \".join([item['text'] for item in transcript])\n",
    "        subtitles_with_timestamps = \"\\n\".join([f\"{item['start']:.2f}s: {item['text']}\" for item in transcript])\n",
    "        return {\n",
    "            \"text\": subtitles_text,\n",
    "            \"with_timestamps\": subtitles_with_timestamps,\n",
    "            \"video_id\": video_id\n",
    "        }\n",
    "    except Exception as e:\n",
    "        return f\"Lỗi khi lấy phụ đề: {e}\"\n",
    "\n",
    "def preprocess_text(text):\n",
    "    text = re.sub(r'\\[.*?\\]', '', text)\n",
    "    text = re.sub(r'\\s+', ' ', text)\n",
    "    text = text.strip()\n",
    "    return text\n",
    "\n",
    "def create_vector_store(text):\n",
    "    text_splitter = RecursiveCharacterTextSplitter(\n",
    "        chunk_size=1000,\n",
    "        chunk_overlap=100,\n",
    "        separators=[\"\\n\\n\", \"\\n\", \". \", \" \", \"\"]\n",
    "    )\n",
    "    chunks = [chunk.strip() for chunk in text_splitter.split_text(text) if chunk.strip()]\n",
    "    # chunks = text_splitter.split_text(text)\n",
    "    \n",
    "    # embeddings = HuggingFaceEmbeddings(\n",
    "    #     model_name=\"sentence-transformers/all-MiniLM-L6-v2\",\n",
    "    #     model_kwargs={'device': 'cuda:0' if torch.cuda.is_available() else 'cpu'}\n",
    "    # )\n",
    "    embeddings = HuggingFaceEmbeddings(\n",
    "        model_name=\"sentence-transformers/all-MiniLM-L6-v2\",\n",
    "        encode_kwargs={'batch_size': 32}  \n",
    "    )\n",
    "    vector_store = FAISS.from_texts(chunks, embeddings)\n",
    "    \n",
    "    return vector_store\n",
    "\n",
    "def generate_summary(text, max_length=150):\n",
    "    model_name = \"philschmid/bart-large-cnn-samsum\" \n",
    "    \n",
    "    tokenizer = BartTokenizer.from_pretrained(model_name)\n",
    "    model = BartForConditionalGeneration.from_pretrained(model_name)\n",
    "    device = 'cuda:0' if torch.cuda.is_available() else 'cpu'\n",
    "    \n",
    "    model = model.to(device)\n",
    "    chunk_size = 1024\n",
    "    chunks = [text[i:i+chunk_size] for i in range(0, len(text), chunk_size)]\n",
    "    \n",
    "    intermediate_summaries = []\n",
    "    for chunk in chunks:\n",
    "        inputs = tokenizer(chunk, return_tensors=\"pt\", max_length=1024, truncation=True).to(device)\n",
    "        summary_ids = model.generate(\n",
    "            inputs[\"input_ids\"],\n",
    "            max_length=512, \n",
    "            min_length=50, \n",
    "            num_beams=4, \n",
    "            early_stopping=True\n",
    "        )\n",
    "        summary = tokenizer.decode(summary_ids[0], skip_special_tokens=True)\n",
    "        intermediate_summaries.append(summary)\n",
    "    \n",
    "    combined_text = \" \".join(intermediate_summaries)\n",
    "    # inputs = tokenizer(combined_text, return_tensors=\"pt\", max_length=1024, truncation=True).to(device)\n",
    "    # summary_ids = model.generate(inputs[\"input_ids\"], max_length=1024, min_length=50, num_beams=4, early_stopping=True)\n",
    "    # final_summary = tokenizer.decode(summary_ids[0], skip_special_tokens=True)\n",
    "    \n",
    "    # return final_summary\n",
    "    return combined_text\n",
    "\n",
    "def setup_llm():\n",
    "    model_name = \"microsoft/phi-2\" \n",
    "    tokenizer = AutoTokenizer.from_pretrained(model_name, trust_remote_code=True)\n",
    "    model = AutoModelForCausalLM.from_pretrained(\n",
    "        model_name,\n",
    "        device_map=\"auto\",\n",
    "        torch_dtype=torch.float16,\n",
    "        trust_remote_code=True,\n",
    "    )\n",
    "    \n",
    "    pipe = pipeline(\n",
    "        \"text-generation\",\n",
    "        model=model, \n",
    "        tokenizer=tokenizer,\n",
    "        max_new_tokens=512,\n",
    "        temperature=0.7,\n",
    "        do_sample=True,\n",
    "        top_p=0.95,\n",
    "        repetition_penalty=1.2\n",
    "    )\n",
    "    \n",
    "    llm = HuggingFacePipeline(pipeline=pipe)\n",
    "    return llm\n",
    "\n",
    "def create_chat_chain(vector_store, llm):\n",
    "    # memory = ConversationBufferMemory(\n",
    "    #     memory_key=\"chat_history\",\n",
    "    #     return_messages=True,\n",
    "    #     output_key=\"answer\" \n",
    "    # )\n",
    "\n",
    "    chain = ConversationalRetrievalChain.from_llm(\n",
    "        llm=llm,\n",
    "        retriever=vector_store.as_retriever(search_kwargs={\"k\": 5}),\n",
    "        memory=None,\n",
    "        return_source_documents=False\n",
    "    )\n",
    "    return chain\n",
    "\n",
    "def youtube_video_chat_app():\n",
    "    print(\"=== YouTube Video Chat App ===\")\n",
    "    video_url = input(\"Nhập link video YouTube: \")\n",
    "    \n",
    "    print(\"Đang lấy phụ đề video...\")\n",
    "    subtitles_data = get_youtube_subtitles(video_url)\n",
    "    \n",
    "    if isinstance(subtitles_data, str) and \"Lỗi\" in subtitles_data:\n",
    "        print(subtitles_data)\n",
    "        return\n",
    "    \n",
    "    video_id = subtitles_data[\"video_id\"]\n",
    "    \n",
    "    subtitles_text = subtitles_data[\"text\"]\n",
    "    processed_text = preprocess_text(subtitles_text)\n",
    "    # print(subtitles_text)\n",
    "    print(\"Đang tạo vector store...\")\n",
    "    vector_store = create_vector_store(processed_text)\n",
    "    \n",
    "    print(\"Đang tạo tóm tắt nội dung video...\")\n",
    "    summary = generate_summary(processed_text)\n",
    "    print(\"\\n=== TÓM TẮT NỘI DUNG VIDEO ===\")\n",
    "    print(summary)\n",
    "    print(\"===============================\\n\")\n",
    "    \n",
    "    print(\"Đang khởi tạo mô hình chat...\")\n",
    "    llm = setup_llm()\n",
    "    chain = create_chat_chain(vector_store, llm)\n",
    "    \n",
    "    print(\"\\nBạn có thể bắt đầu chat về nội dung video. Gõ 'exit' để thoát.\")\n",
    "    \n",
    "    while True:\n",
    "        query = input(\"\\nBạn: \")\n",
    "        if query.lower() == 'exit':\n",
    "            break\n",
    "        \n",
    "        formatted_query = f\"\"\"\n",
    "        Based on the YouTube video subtitles, please answer the following question:\n",
    "        \n",
    "        Question: {query}\n",
    "        \n",
    "        Only respond using the information found in the video subtitles. If the information is not mentioned, state that it is not available in the video.\n",
    "        \"\"\"\n",
    "        \n",
    "        response = chain({\"question\": formatted_query, \"chat_history\": []})\n",
    "        print(f\"\\nAssistant: {response['answer']}\")\n",
    "        \n",
    "\n",
    "        # https://www.youtube.com/watch?v=Up6tk1hliIM&t=113s\n",
    "        # What happened to David James and Corey after the shooting incident?\n",
    "if __name__ == \"__main__\":\n",
    "    youtube_video_chat_app()"
   ]
  },
  {
   "cell_type": "code",
   "execution_count": null,
   "id": "a2a48728-a6a9-4543-bbef-3ffeace7eff8",
   "metadata": {},
   "outputs": [],
   "source": []
  }
 ],
 "metadata": {
  "kernelspec": {
   "display_name": "Python 3 (ipykernel)",
   "language": "python",
   "name": "python3"
  },
  "language_info": {
   "codemirror_mode": {
    "name": "ipython",
    "version": 3
   },
   "file_extension": ".py",
   "mimetype": "text/x-python",
   "name": "python",
   "nbconvert_exporter": "python",
   "pygments_lexer": "ipython3",
   "version": "3.10.14"
  }
 },
 "nbformat": 4,
 "nbformat_minor": 5
}
